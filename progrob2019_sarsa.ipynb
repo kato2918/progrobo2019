{
 "cells": [
  {
   "cell_type": "code",
   "execution_count": 40,
   "metadata": {},
   "outputs": [],
   "source": [
    "class Agent:\n",
    "    def __init__(self):\n",
    "        self.actions = [\"up\",\"down\",\"left\",\"right\"]\n",
    "        self.pos = (0,0)\n",
    "        \n",
    "agent = Agent()"
   ]
  },
  {
   "cell_type": "markdown",
   "metadata": {},
   "source": [
    "### 湖の追加（ペナルティエリアの追加）"
   ]
  },
  {
   "cell_type": "code",
   "execution_count": 82,
   "metadata": {},
   "outputs": [],
   "source": [
    "size = 15\n",
    "\n",
    "class State:\n",
    "    def __init__(self,actions):\n",
    "        self.Q = {}\n",
    "        for a in actions:\n",
    "            self.Q[a] = 0.0\n",
    "        self.best_action = \"up\"\n",
    "        self.goal = False\n",
    "        \n",
    "    def set_goal(self,actions):\n",
    "        for a in actions:\n",
    "            self.Q[a] = 0.0\n",
    "        self.goal = True\n",
    "\n",
    "    def set_lake(self,actions):\n",
    "        for a in actions:\n",
    "            self.Q[a] = 100000.0\n",
    "        self.goal = False\n",
    "        \n",
    "states = [[State(agent.actions) for i in range(size)] for j in range(size)]\n",
    "for i in range(5):\n",
    "    for j in range(5):\n",
    "        states[i+5][j+5].set_lake(agent.actions)\n",
    "states[13][13].set_goal(agent.actions)"
   ]
  },
  {
   "cell_type": "code",
   "execution_count": 91,
   "metadata": {},
   "outputs": [
    {
     "data": {
      "image/png": "[encoded data removed]",
      "text/plain": [
       "<matplotlib.figure.Figure at 0x116291978>"
      ]
     },
     "metadata": {},
     "output_type": "display_data"
    }
   ],
   "source": [
    "import matplotlib.pyplot as plt  \n",
    "import matplotlib.patches as patches\n",
    "\n",
    "def draw(mark_pos):\n",
    "    fig, ax = plt.subplots()\n",
    "    values = [[states[i][j].Q[states[i][j].best_action] for j in range(size)] for i in range(size)]\n",
    "    mp = ax.pcolor(values, cmap=plt.cm.YlOrRd,vmin=0,vmax=8)\n",
    "    ax.set_aspect(1)\n",
    "    ax.set_xticks(range(size), minor=False)\n",
    "    ax.set_yticks(range(size), minor=False)\n",
    "    \n",
    "    for x in range(len(values)):\n",
    "        for y in range(len(values[0])):\n",
    "            s = states[x][y]\n",
    "            plt.text(x+0.5,y+0.5,int(1000*s.Q[s.best_action])/1000,ha = 'center', va = 'center', size=5)\n",
    "            if states[x][y].goal:\n",
    "                plt.text(x+0.75,y+0.75,\"G\",ha = 'center', va = 'center', size=8)\n",
    "                \n",
    "    plt.text(agent.pos[0]+0.5,agent.pos[1]+0.25,\"agent\",ha = 'center', va = 'center', size=8)\n",
    "    \n",
    "    if mark_pos == \"all\":   # 指定した位置にactionの文字列を書くという処理\n",
    "        for x in range(size):\n",
    "            for y in range(size):\n",
    "                if states[x][y].goal: continue\n",
    "                plt.text(x+0.5,y+0.25,states[x][y].best_action,ha = 'center', va = 'center', size=1)\n",
    "    elif mark_pos != None: \n",
    "        s = states[mark_pos[0]][mark_pos[1]]\n",
    "        plt.text(mark_pos[0]+0.5,mark_pos[1]+0.25,s.best_action,ha = 'center', va = 'center', size=1)\n",
    "            \n",
    "    plt.show()\n",
    "    fig.clear()\n",
    "    \n",
    "draw(None)"
   ]
  },
  {
   "cell_type": "code",
   "execution_count": 92,
   "metadata": {},
   "outputs": [],
   "source": [
    "import random\n",
    "\n",
    "def state_transition(s_pos,a):\n",
    "    ###確率10%で元のまま ###\n",
    "    if random.uniform(0,1) < 0.1:\n",
    "        return s_pos\n",
    "    \n",
    "    x,y = s_pos\n",
    "    if   a == \"up\": y += 1\n",
    "    elif a == \"down\": y -= 1\n",
    "    elif a == \"right\": x += 1\n",
    "    elif a == \"left\": x -= 1\n",
    "        \n",
    "    if x < 0:       x = 0\n",
    "    elif x >= size: x = size-1\n",
    "    if y < 0:       y = 0\n",
    "    elif y >= size: y = size-1\n",
    "        \n",
    "    return (x,y)"
   ]
  },
  {
   "cell_type": "code",
   "execution_count": 93,
   "metadata": {},
   "outputs": [],
   "source": [
    "def e_greedy(s):\n",
    "    if random.uniform(0,1) < 0.1: #10%でランダムに\n",
    "        return random.choice(agent.actions)\n",
    "    else:\n",
    "        best_a = None\n",
    "        best_q = 1000000000\n",
    "        for a in s.Q:\n",
    "            if best_q > s.Q[a]:\n",
    "                best_q = s.Q[a]\n",
    "                best_a = a\n",
    "        s.best_action = best_a\n",
    "        return best_a"
   ]
  },
  {
   "cell_type": "markdown",
   "metadata": {},
   "source": [
    "### greedy方策の追加"
   ]
  },
  {
   "cell_type": "code",
   "execution_count": 94,
   "metadata": {},
   "outputs": [],
   "source": [
    "def greedy(s):\n",
    "    best_a = None\n",
    "    best_q = 1000000000\n",
    "    for a in s.Q:\n",
    "        if best_q > s.Q[a]:\n",
    "            best_q = s.Q[a]\n",
    "            best_a = a\n",
    "    s.best_action = best_a\n",
    "    return best_a"
   ]
  },
  {
   "cell_type": "code",
   "execution_count": 95,
   "metadata": {
    "scrolled": true
   },
   "outputs": [
    {
     "data": {
      "image/png": "[encoded data removed]",
      "text/plain": [
       "<matplotlib.figure.Figure at 0x1160c8e80>"
      ]
     },
     "metadata": {},
     "output_type": "display_data"
    }
   ],
   "source": [
    "alpha = 0.5\n",
    "gamma = 1.0\n",
    "\n",
    "def sarsa(s_pos,a):\n",
    "    s = states[s_pos[0]][s_pos[1]]\n",
    "    s_next_pos = state_transition(s_pos,a)\n",
    "    s_next = states[s_next_pos[0]][s_next_pos[1]]\n",
    "    a_next = e_greedy(s_next)\n",
    "    \n",
    "    q = (1.0-alpha)*s.Q[a] + alpha * (1.0 + gamma * s_next.Q[a_next])\n",
    "#    print(\"s:\" + str(s_pos)+ \"　a:\" + a + \" s':\" + str(s_next_pos) + \" a':\" + a_next)\n",
    "#    print(\"----\")\n",
    "    return s_next_pos, a_next, q\n",
    "\n",
    "def one_trial():\n",
    "    agent.pos = (random.randrange(size),random.randrange(size))\n",
    "    a = e_greedy(states[agent.pos[0]][agent.pos[1]])\n",
    "    if states[agent.pos[0]][agent.pos[1]].goal:\n",
    "        return\n",
    "          \n",
    "    while True:\n",
    "        #draw(None)\n",
    "        s_next, a_next, q = sarsa(agent.pos,a)\n",
    "        states[agent.pos[0]][agent.pos[1]].Q[a] = q\n",
    "        agent.pos = s_next\n",
    "        a = a_next\n",
    "        if states[agent.pos[0]][agent.pos[1]].goal:\n",
    "            break\n",
    "            \n",
    "            \n",
    "for i in range(1000):\n",
    "    one_trial()\n",
    "draw(\"all\")"
   ]
  },
  {
   "cell_type": "markdown",
   "metadata": {},
   "source": [
    "### エージェントの動きの描画\n",
    "sarsaのため大きく湖を避けている様子が見て取れる"
   ]
  },
  {
   "cell_type": "code",
   "execution_count": 154,
   "metadata": {},
   "outputs": [
    {
     "name": "stdout",
     "output_type": "stream",
     "text": [
      "(5, 3)\n",
      "(5, 3) left\n",
      "(4, 3) down\n",
      "(4, 2) left\n",
      "(3, 2) left\n",
      "(2, 2) up\n",
      "(2, 3) left\n",
      "(1, 3) up\n",
      "(1, 4) left\n",
      "(0, 4) up\n",
      "(0, 5) up\n",
      "(0, 6) up\n",
      "(0, 7) up\n",
      "(0, 8) up\n",
      "(0, 9) up\n",
      "(0, 10) up\n",
      "(0, 11) up\n",
      "(0, 11) up\n",
      "(0, 12) right\n",
      "(1, 12) right\n",
      "(2, 12) right\n",
      "(3, 12) right\n",
      "(4, 12) right\n",
      "(5, 12) right\n",
      "(6, 12) up\n",
      "(6, 13) right\n",
      "(7, 13) right\n",
      "(8, 13) right\n",
      "(9, 13) right\n",
      "(10, 13) right\n",
      "(11, 13) right\n",
      "(12, 13) right\n"
     ]
    },
    {
     "data": {
      "image/png": "[encoded data removed]",
      "text/plain": [
       "<matplotlib.figure.Figure at 0x115f93048>"
      ]
     },
     "metadata": {},
     "output_type": "display_data"
    }
   ],
   "source": [
    "def ugoku():\n",
    "\n",
    "    # 6×4サイズのFigureを作成\n",
    "    fig = plt.figure(figsize = (6, 6))\n",
    "    # FigureにAxesを１つ追加\n",
    "    ax = fig.add_subplot(111)\n",
    "    # 目盛線を表示\n",
    "    ax.grid()\n",
    "    # x軸の範囲を設定\n",
    "    ax.set_xlim([-1, 15])\n",
    "    ax.set_ylim([-1, 15])\n",
    "\n",
    "    r = patches.Rectangle(xy=(5, 5), width=5, height=5, ec='#000000', fill=True)\n",
    "    ax.add_patch(r)\n",
    "    \n",
    "    agent.pos = (random.randrange(size),random.randrange(size))\n",
    "    a = greedy(states[agent.pos[0]][agent.pos[1]])\n",
    "    if states[agent.pos[0]][agent.pos[1]].goal:\n",
    "        return\n",
    "    print(agent.pos)\n",
    "    for i in range(100):\n",
    "        #draw(None)\n",
    "        print(agent.pos,a)\n",
    "\n",
    "        \n",
    "        s_pos = agent.pos#(0,0)#agent.pos[0],agent.pos[1]\n",
    "        s_next = state_transition(s_pos,a)\n",
    "        #s_next = states[s_next_pos[0]][s_next_pos[1]]\n",
    "        ax.plot([agent.pos[0], s_next[0]], [agent.pos[1], s_next[1]], color = \"sienna\")        \n",
    "        agent.pos = s_next\n",
    "        a = greedy(states[agent.pos[0]][agent.pos[1]])\n",
    "#        print(agent.pos)\n",
    "\n",
    "        if states[agent.pos[0]][agent.pos[1]].goal:\n",
    "            break\n",
    "ugoku()"
   ]
  }
 ],
 "metadata": {
  "kernelspec": {
   "display_name": "Python 3",
   "language": "python",
   "name": "python3"
  },
  "language_info": {
   "codemirror_mode": {
    "name": "ipython",
    "version": 3
   },
   "file_extension": ".py",
   "mimetype": "text/x-python",
   "name": "python",
   "nbconvert_exporter": "python",
   "pygments_lexer": "ipython3",
   "version": "3.6.4"
  }
 },
 "nbformat": 4,
 "nbformat_minor": 2
}
